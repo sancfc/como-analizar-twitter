{
 "cells": [
  {
   "cell_type": "markdown",
   "metadata": {},
   "source": [
    "# Pasar datos en formato json a txt"
   ]
  },
  {
   "cell_type": "markdown",
   "metadata": {},
   "source": [
    "Comenzamos importando las librerías y estableciendo las opciones de pandas que queremos."
   ]
  },
  {
   "cell_type": "code",
   "execution_count": 92,
   "metadata": {},
   "outputs": [],
   "source": [
    "import glob\n",
    "import json\n",
    "import pandas as pd\n",
    "from datetime import datetime as dt\n",
    "import re\n",
    "from IPython.display import Image\n",
    "\n",
    "pd.set_option('display.max_colwidth', None)\n",
    "pd.set_option('display.max_columns', None)\n",
    "pd.options.mode.chained_assignment = None"
   ]
  },
  {
   "cell_type": "markdown",
   "metadata": {},
   "source": [
    "El json obtenido con twarc2 tiene múltiples items, uno por cada 100 tweets. En este caso tenemos dos, los cogemos y los metemos en una lista."
   ]
  },
  {
   "cell_type": "code",
   "execution_count": 93,
   "metadata": {},
   "outputs": [],
   "source": [
    "tweets_data = []\n",
    "\n",
    "tweets_file = open(r'felizmiercoles.json1', encoding = 'utf-8')\n",
    "\n",
    "for line in tweets_file:\n",
    "    tweet = json.loads(line)\n",
    "    tweets_data.append(tweet)\n",
    "\n",
    "tweets_file.close()"
   ]
  },
  {
   "cell_type": "markdown",
   "metadata": {},
   "source": [
    "Vamos a comprobar que nuestro json tiene 2 items al tener 200 tweets."
   ]
  },
  {
   "cell_type": "code",
   "execution_count": 94,
   "metadata": {},
   "outputs": [
    {
     "data": {
      "text/plain": [
       "2"
      ]
     },
     "execution_count": 94,
     "metadata": {},
     "output_type": "execute_result"
    }
   ],
   "source": [
    "len(tweets_data)"
   ]
  },
  {
   "cell_type": "markdown",
   "metadata": {},
   "source": [
    "### Ejemplo de estructura de json"
   ]
  },
  {
   "cell_type": "markdown",
   "metadata": {},
   "source": [
    "En este ejemplo solo he cogido un tweet del hashtag #estoesunaprueba123 para facilitar la visualización. Si tuvieramos más de 100 tweets el diccionario que marca el primer corchete contendría una lista de items."
   ]
  },
  {
   "cell_type": "code",
   "execution_count": 95,
   "metadata": {},
   "outputs": [
    {
     "data": {
      "text/html": [
       "<img src=\"Imagenes/json_tree.png\" width=\"600\" height=\"600\"/>"
      ],
      "text/plain": [
       "<IPython.core.display.Image object>"
      ]
     },
     "execution_count": 95,
     "metadata": {},
     "output_type": "execute_result"
    }
   ],
   "source": [
    "Image(url=\"Imagenes/json_tree.png\", width=600,height=600)"
   ]
  },
  {
   "cell_type": "markdown",
   "metadata": {},
   "source": [
    "### Extracción de los datos"
   ]
  },
  {
   "cell_type": "markdown",
   "metadata": {},
   "source": [
    "Loopeamos en la lista de items del json para coger cada pieza de información de todos los tweets e introducirla en una variable. Por último el loop va a unir toda la información en `list_tweets_flattered`, que es una lista vacía que vamos a llenar con otras listas, una por tweet."
   ]
  },
  {
   "cell_type": "code",
   "execution_count": 96,
   "metadata": {},
   "outputs": [],
   "source": [
    "list_tweets_flattered = []\n",
    "\n",
    "for item in tweets_data:\n",
    "    list_tweets = item['data']\n",
    "    for tweet in list_tweets:\n",
    "        if 'referenced_tweets' in tweet:\n",
    "            type = tweet['referenced_tweets'][0]['type']\n",
    "            if type == 'retweeted':\n",
    "                user_retweeted = tweet['entities']['mentions'][0]['username']\n",
    "        else:\n",
    "            type = 'tweet'\n",
    "            user_retweeted = None\n",
    "        id_user = tweet['author_id']\n",
    "        date = tweet['created_at']\n",
    "        source = tweet['source']\n",
    "        text = tweet['text']\n",
    "        reply_settings = tweet['reply_settings']\n",
    "        id_tweet = tweet['id']\n",
    "        retweet_count = tweet['public_metrics']['retweet_count']\n",
    "        reply_count = tweet['public_metrics']['reply_count']\n",
    "        like_count = tweet['public_metrics']['like_count']\n",
    "        quote_count = tweet['public_metrics']['quote_count']\n",
    "        lang = tweet['lang']\n",
    "\n",
    "        list_tweets_flattered.append([type,user_retweeted,id_user,date,source,text,reply_settings,id_tweet,retweet_count,\n",
    "                                        reply_count,like_count,quote_count,lang])"
   ]
  },
  {
   "cell_type": "markdown",
   "metadata": {},
   "source": [
    "Esa lista de listas la convertimos en dataframe."
   ]
  },
  {
   "cell_type": "code",
   "execution_count": 97,
   "metadata": {},
   "outputs": [
    {
     "data": {
      "text/html": [
       "<div>\n",
       "<style scoped>\n",
       "    .dataframe tbody tr th:only-of-type {\n",
       "        vertical-align: middle;\n",
       "    }\n",
       "\n",
       "    .dataframe tbody tr th {\n",
       "        vertical-align: top;\n",
       "    }\n",
       "\n",
       "    .dataframe thead th {\n",
       "        text-align: right;\n",
       "    }\n",
       "</style>\n",
       "<table border=\"1\" class=\"dataframe\">\n",
       "  <thead>\n",
       "    <tr style=\"text-align: right;\">\n",
       "      <th></th>\n",
       "      <th>relation</th>\n",
       "      <th>user retweeted</th>\n",
       "      <th>id user</th>\n",
       "      <th>date</th>\n",
       "      <th>app</th>\n",
       "      <th>text</th>\n",
       "      <th>reply settings</th>\n",
       "      <th>id tweet</th>\n",
       "      <th>retweet count</th>\n",
       "      <th>reply count</th>\n",
       "      <th>like count</th>\n",
       "      <th>quote count</th>\n",
       "      <th>lang</th>\n",
       "    </tr>\n",
       "  </thead>\n",
       "  <tbody>\n",
       "    <tr>\n",
       "      <th>0</th>\n",
       "      <td>retweeted</td>\n",
       "      <td>Elangel_ven0</td>\n",
       "      <td>1280509194534346752</td>\n",
       "      <td>2022-10-19T15:15:26.000Z</td>\n",
       "      <td>Twitter Web App</td>\n",
       "      <td>RT @Elangel_ven0: YO♥️CUMANA\\n🚩 Tras las lluvias acaecidas en #Cumana el alcalde 👉 .@lossifontes realizo el acercamiento a la comunidad de E…</td>\n",
       "      <td>everyone</td>\n",
       "      <td>1582752287495458817</td>\n",
       "      <td>43</td>\n",
       "      <td>0</td>\n",
       "      <td>0</td>\n",
       "      <td>0</td>\n",
       "      <td>es</td>\n",
       "    </tr>\n",
       "    <tr>\n",
       "      <th>1</th>\n",
       "      <td>retweeted</td>\n",
       "      <td>sergiofimbres</td>\n",
       "      <td>795089089</td>\n",
       "      <td>2022-10-19T15:15:25.000Z</td>\n",
       "      <td>Twitter for Android</td>\n",
       "      <td>RT @sergiofimbres: 📰 Segob vs ego (@osvaldomonos) \\n#FelizMiercoles https://t.co/mzLhRFzLew</td>\n",
       "      <td>everyone</td>\n",
       "      <td>1582752285595029505</td>\n",
       "      <td>7</td>\n",
       "      <td>0</td>\n",
       "      <td>0</td>\n",
       "      <td>0</td>\n",
       "      <td>es</td>\n",
       "    </tr>\n",
       "  </tbody>\n",
       "</table>\n",
       "</div>"
      ],
      "text/plain": [
       "    relation user retweeted              id user                      date  \\\n",
       "0  retweeted   Elangel_ven0  1280509194534346752  2022-10-19T15:15:26.000Z   \n",
       "1  retweeted  sergiofimbres            795089089  2022-10-19T15:15:25.000Z   \n",
       "\n",
       "                   app  \\\n",
       "0      Twitter Web App   \n",
       "1  Twitter for Android   \n",
       "\n",
       "                                                                                                                                            text  \\\n",
       "0  RT @Elangel_ven0: YO♥️CUMANA\\n🚩 Tras las lluvias acaecidas en #Cumana el alcalde 👉 .@lossifontes realizo el acercamiento a la comunidad de E…   \n",
       "1                                                    RT @sergiofimbres: 📰 Segob vs ego (@osvaldomonos) \\n#FelizMiercoles https://t.co/mzLhRFzLew   \n",
       "\n",
       "  reply settings             id tweet  retweet count  reply count  like count  \\\n",
       "0       everyone  1582752287495458817             43            0           0   \n",
       "1       everyone  1582752285595029505              7            0           0   \n",
       "\n",
       "   quote count lang  \n",
       "0            0   es  \n",
       "1            0   es  "
      ]
     },
     "execution_count": 97,
     "metadata": {},
     "output_type": "execute_result"
    }
   ],
   "source": [
    "tweets_df = pd.DataFrame(list_tweets_flattered,columns=['relation','user retweeted','id user','date','app','text','reply settings',\n",
    "'id tweet','retweet count','reply count','like count','quote count','lang'])\n",
    "tweets_df.head(2)"
   ]
  },
  {
   "cell_type": "markdown",
   "metadata": {},
   "source": [
    "Hacemos lo mismo con la información de los usuarios."
   ]
  },
  {
   "cell_type": "code",
   "execution_count": 98,
   "metadata": {},
   "outputs": [],
   "source": [
    "list_users_flattered = []\n",
    "\n",
    "for item in tweets_data:\n",
    "    list_users = item['includes']['users']\n",
    "    for user in list_users:\n",
    "        if 'location' in user:\n",
    "            location = user['location']\n",
    "        else:\n",
    "            location = None\n",
    "        username = user['username']\n",
    "        verified = user['verified']\n",
    "        name = user['name']\n",
    "        id_user = user['id']\n",
    "        profile_image_url = user['profile_image_url']\n",
    "        followers_count = user['public_metrics']['followers_count']\n",
    "        following_count = user['public_metrics']['following_count']\n",
    "        tweet_count = user['public_metrics']['tweet_count']\n",
    "        listed_count = user['public_metrics']['listed_count']\n",
    "        bio = user['description']\n",
    "        created_at = user['created_at']\n",
    "        if 'url' in user:\n",
    "            url_list = user['entities']['url']['urls']\n",
    "            url_end = []\n",
    "            for url_unique in url_list:\n",
    "                expanded_url = url_unique['expanded_url']\n",
    "                url_end.append(expanded_url)\n",
    "        else:\n",
    "            url_end = None\n",
    "\n",
    "        list_users_flattered.append([location,username,verified,name,id_user,profile_image_url,\n",
    "        followers_count,following_count,tweet_count,listed_count,bio,created_at,url_end])"
   ]
  },
  {
   "cell_type": "code",
   "execution_count": 99,
   "metadata": {},
   "outputs": [
    {
     "data": {
      "text/html": [
       "<div>\n",
       "<style scoped>\n",
       "    .dataframe tbody tr th:only-of-type {\n",
       "        vertical-align: middle;\n",
       "    }\n",
       "\n",
       "    .dataframe tbody tr th {\n",
       "        vertical-align: top;\n",
       "    }\n",
       "\n",
       "    .dataframe thead th {\n",
       "        text-align: right;\n",
       "    }\n",
       "</style>\n",
       "<table border=\"1\" class=\"dataframe\">\n",
       "  <thead>\n",
       "    <tr style=\"text-align: right;\">\n",
       "      <th></th>\n",
       "      <th>location</th>\n",
       "      <th>author</th>\n",
       "      <th>verified</th>\n",
       "      <th>name</th>\n",
       "      <th>id user</th>\n",
       "      <th>profile image url</th>\n",
       "      <th>followers</th>\n",
       "      <th>following</th>\n",
       "      <th>tweets</th>\n",
       "      <th>listed</th>\n",
       "      <th>description</th>\n",
       "      <th>created_at</th>\n",
       "      <th>urls</th>\n",
       "    </tr>\n",
       "  </thead>\n",
       "  <tbody>\n",
       "    <tr>\n",
       "      <th>0</th>\n",
       "      <td>Apure</td>\n",
       "      <td>ShavelaHermosa</td>\n",
       "      <td>False</td>\n",
       "      <td>♥️⋆ 𝓒𝓱𝓪𝓿𝓮𝓵𝓪 𝓐𝓷𝓭𝓻𝓮𝓲𝓷𝓪 ⋆ ♥️</td>\n",
       "      <td>1280509194534346752</td>\n",
       "      <td>https://pbs.twimg.com/profile_images/1539401404896378880/X5TJ6zo2_normal.jpg</td>\n",
       "      <td>4402</td>\n",
       "      <td>3183</td>\n",
       "      <td>73680</td>\n",
       "      <td>3</td>\n",
       "      <td>Llanera, me gusta viajar y conocer mi país 🇻🇪\\n♫ ..En el fogón de tus brazos cocíname a fuego \\nlento pàque mi alma se sancoche\\n con el calor de tu cuerpo.♫</td>\n",
       "      <td>2020-07-07T14:29:32.000Z</td>\n",
       "      <td>None</td>\n",
       "    </tr>\n",
       "  </tbody>\n",
       "</table>\n",
       "</div>"
      ],
      "text/plain": [
       "  location          author  verified                       name  \\\n",
       "0    Apure  ShavelaHermosa     False  ♥️⋆ 𝓒𝓱𝓪𝓿𝓮𝓵𝓪 𝓐𝓷𝓭𝓻𝓮𝓲𝓷𝓪 ⋆ ♥️   \n",
       "\n",
       "               id user  \\\n",
       "0  1280509194534346752   \n",
       "\n",
       "                                                              profile image url  \\\n",
       "0  https://pbs.twimg.com/profile_images/1539401404896378880/X5TJ6zo2_normal.jpg   \n",
       "\n",
       "   followers  following  tweets  listed  \\\n",
       "0       4402       3183   73680       3   \n",
       "\n",
       "                                                                                                                                                     description  \\\n",
       "0  Llanera, me gusta viajar y conocer mi país 🇻🇪\\n♫ ..En el fogón de tus brazos cocíname a fuego \\nlento pàque mi alma se sancoche\\n con el calor de tu cuerpo.♫   \n",
       "\n",
       "                 created_at  urls  \n",
       "0  2020-07-07T14:29:32.000Z  None  "
      ]
     },
     "execution_count": 99,
     "metadata": {},
     "output_type": "execute_result"
    }
   ],
   "source": [
    "users_df = pd.DataFrame(list_users_flattered,columns=['location','author','verified','name',\n",
    "'id user','profile image url','followers','following','tweets','listed',\n",
    "'description','created_at','urls'])\n",
    "users_df.head(1)"
   ]
  },
  {
   "cell_type": "markdown",
   "metadata": {},
   "source": [
    "Hacemos lo mismo con la fecha en la que hemos cogido los tweets."
   ]
  },
  {
   "cell_type": "code",
   "execution_count": 100,
   "metadata": {},
   "outputs": [],
   "source": [
    "retrieved_at = tweets_data[0]['__twarc']['retrieved_at']"
   ]
  },
  {
   "cell_type": "markdown",
   "metadata": {},
   "source": [
    "Añadimos la información de los usuarios y la fecha de obtención al dataframe de tweets."
   ]
  },
  {
   "cell_type": "code",
   "execution_count": 101,
   "metadata": {},
   "outputs": [
    {
     "data": {
      "text/html": [
       "<div>\n",
       "<style scoped>\n",
       "    .dataframe tbody tr th:only-of-type {\n",
       "        vertical-align: middle;\n",
       "    }\n",
       "\n",
       "    .dataframe tbody tr th {\n",
       "        vertical-align: top;\n",
       "    }\n",
       "\n",
       "    .dataframe thead th {\n",
       "        text-align: right;\n",
       "    }\n",
       "</style>\n",
       "<table border=\"1\" class=\"dataframe\">\n",
       "  <thead>\n",
       "    <tr style=\"text-align: right;\">\n",
       "      <th></th>\n",
       "      <th>relation</th>\n",
       "      <th>user retweeted</th>\n",
       "      <th>id user</th>\n",
       "      <th>date</th>\n",
       "      <th>app</th>\n",
       "      <th>text</th>\n",
       "      <th>reply settings</th>\n",
       "      <th>id tweet</th>\n",
       "      <th>retweet count</th>\n",
       "      <th>reply count</th>\n",
       "      <th>like count</th>\n",
       "      <th>quote count</th>\n",
       "      <th>lang</th>\n",
       "      <th>location</th>\n",
       "      <th>author</th>\n",
       "      <th>verified</th>\n",
       "      <th>name</th>\n",
       "      <th>profile image url</th>\n",
       "      <th>followers</th>\n",
       "      <th>following</th>\n",
       "      <th>tweets</th>\n",
       "      <th>listed</th>\n",
       "      <th>description</th>\n",
       "      <th>created_at</th>\n",
       "      <th>urls</th>\n",
       "      <th>retrieved at</th>\n",
       "    </tr>\n",
       "  </thead>\n",
       "  <tbody>\n",
       "    <tr>\n",
       "      <th>0</th>\n",
       "      <td>retweeted</td>\n",
       "      <td>Elangel_ven0</td>\n",
       "      <td>1280509194534346752</td>\n",
       "      <td>2022-10-19T15:15:26.000Z</td>\n",
       "      <td>Twitter Web App</td>\n",
       "      <td>RT @Elangel_ven0: YO♥️CUMANA\\n🚩 Tras las lluvias acaecidas en #Cumana el alcalde 👉 .@lossifontes realizo el acercamiento a la comunidad de E…</td>\n",
       "      <td>everyone</td>\n",
       "      <td>1582752287495458817</td>\n",
       "      <td>43</td>\n",
       "      <td>0</td>\n",
       "      <td>0</td>\n",
       "      <td>0</td>\n",
       "      <td>es</td>\n",
       "      <td>Apure</td>\n",
       "      <td>ShavelaHermosa</td>\n",
       "      <td>False</td>\n",
       "      <td>♥️⋆ 𝓒𝓱𝓪𝓿𝓮𝓵𝓪 𝓐𝓷𝓭𝓻𝓮𝓲𝓷𝓪 ⋆ ♥️</td>\n",
       "      <td>https://pbs.twimg.com/profile_images/1539401404896378880/X5TJ6zo2_normal.jpg</td>\n",
       "      <td>4402</td>\n",
       "      <td>3183</td>\n",
       "      <td>73680</td>\n",
       "      <td>3</td>\n",
       "      <td>Llanera, me gusta viajar y conocer mi país 🇻🇪\\n♫ ..En el fogón de tus brazos cocíname a fuego \\nlento pàque mi alma se sancoche\\n con el calor de tu cuerpo.♫</td>\n",
       "      <td>2020-07-07T14:29:32.000Z</td>\n",
       "      <td>None</td>\n",
       "      <td>2022-10-19T15:15:40+00:00</td>\n",
       "    </tr>\n",
       "  </tbody>\n",
       "</table>\n",
       "</div>"
      ],
      "text/plain": [
       "    relation user retweeted              id user                      date  \\\n",
       "0  retweeted   Elangel_ven0  1280509194534346752  2022-10-19T15:15:26.000Z   \n",
       "\n",
       "               app  \\\n",
       "0  Twitter Web App   \n",
       "\n",
       "                                                                                                                                            text  \\\n",
       "0  RT @Elangel_ven0: YO♥️CUMANA\\n🚩 Tras las lluvias acaecidas en #Cumana el alcalde 👉 .@lossifontes realizo el acercamiento a la comunidad de E…   \n",
       "\n",
       "  reply settings             id tweet  retweet count  reply count  like count  \\\n",
       "0       everyone  1582752287495458817             43            0           0   \n",
       "\n",
       "   quote count lang location          author  verified  \\\n",
       "0            0   es    Apure  ShavelaHermosa     False   \n",
       "\n",
       "                        name  \\\n",
       "0  ♥️⋆ 𝓒𝓱𝓪𝓿𝓮𝓵𝓪 𝓐𝓷𝓭𝓻𝓮𝓲𝓷𝓪 ⋆ ♥️   \n",
       "\n",
       "                                                              profile image url  \\\n",
       "0  https://pbs.twimg.com/profile_images/1539401404896378880/X5TJ6zo2_normal.jpg   \n",
       "\n",
       "   followers  following  tweets  listed  \\\n",
       "0       4402       3183   73680       3   \n",
       "\n",
       "                                                                                                                                                     description  \\\n",
       "0  Llanera, me gusta viajar y conocer mi país 🇻🇪\\n♫ ..En el fogón de tus brazos cocíname a fuego \\nlento pàque mi alma se sancoche\\n con el calor de tu cuerpo.♫   \n",
       "\n",
       "                 created_at  urls               retrieved at  \n",
       "0  2020-07-07T14:29:32.000Z  None  2022-10-19T15:15:40+00:00  "
      ]
     },
     "execution_count": 101,
     "metadata": {},
     "output_type": "execute_result"
    }
   ],
   "source": [
    "merged = tweets_df.merge(users_df,how='left',on='id user')\n",
    "merged['retrieved at'] = retrieved_at\n",
    "merged.head(1)"
   ]
  },
  {
   "cell_type": "markdown",
   "metadata": {},
   "source": [
    "Limpiamos las columnas de fechas."
   ]
  },
  {
   "cell_type": "code",
   "execution_count": 102,
   "metadata": {},
   "outputs": [
    {
     "name": "stderr",
     "output_type": "stream",
     "text": [
      "C:\\Users\\Piratena\\AppData\\Local\\Temp\\ipykernel_8520\\2984507682.py:5: FutureWarning: The default value of regex will change from True to False in a future version. In addition, single character regular expressions will *not* be treated as literal strings when regex=True.\n",
      "  merged['date'] = merged['date'].str.replace('.','')\n"
     ]
    }
   ],
   "source": [
    "merged['date'] = merged['date'].apply(lambda x:str(x))\n",
    "merged['date'] = merged['date'].str.replace('T',' ')\n",
    "merged['date'] = merged['date'].str.replace('Z','')\n",
    "merged['date'] = merged['date'].str.replace('000','')\n",
    "merged['date'] = merged['date'].str.replace('.','')"
   ]
  },
  {
   "cell_type": "code",
   "execution_count": 103,
   "metadata": {},
   "outputs": [
    {
     "name": "stderr",
     "output_type": "stream",
     "text": [
      "C:\\Users\\Piratena\\AppData\\Local\\Temp\\ipykernel_8520\\1595034468.py:5: FutureWarning: The default value of regex will change from True to False in a future version. In addition, single character regular expressions will *not* be treated as literal strings when regex=True.\n",
      "  merged['created_at'] = merged['created_at'].str.replace('.','')\n"
     ]
    }
   ],
   "source": [
    "merged['created_at'] = merged['created_at'].apply(lambda x:str(x))\n",
    "merged['created_at'] = merged['created_at'].str.replace('T',' ')\n",
    "merged['created_at'] = merged['created_at'].str.replace('Z','')\n",
    "merged['created_at'] = merged['created_at'].str.replace('000','')\n",
    "merged['created_at'] = merged['created_at'].str.replace('.','')"
   ]
  },
  {
   "cell_type": "code",
   "execution_count": 104,
   "metadata": {},
   "outputs": [],
   "source": [
    "merged['retrieved at'] = merged['retrieved at'].str.replace('T',' ').apply(lambda x:str(x)).apply(lambda x:x[:-6])"
   ]
  },
  {
   "cell_type": "markdown",
   "metadata": {},
   "source": [
    "Transformamos las 3 columnas de fechas de nuevo a objeto datetime (fecha y tiempo)."
   ]
  },
  {
   "cell_type": "code",
   "execution_count": 105,
   "metadata": {},
   "outputs": [],
   "source": [
    "merged['date'] = merged['date'].apply(lambda x:dt.strptime(x, '%Y-%m-%d %H:%M:%S'))\n",
    "merged['created_at'] = merged['created_at'].apply(lambda x:dt.strptime(x, '%Y-%m-%d %H:%M:%S'))\n",
    "merged['retrieved at'] = merged['retrieved at'].apply(lambda x:dt.strptime(x, '%Y-%m-%d %H:%M:%S'))"
   ]
  },
  {
   "cell_type": "markdown",
   "metadata": {},
   "source": [
    "Quitamos los saltos de línea de las columnas de textos largos."
   ]
  },
  {
   "cell_type": "code",
   "execution_count": 106,
   "metadata": {},
   "outputs": [],
   "source": [
    "merged['text'] = merged['text'].str.replace('\\n',' ')\n",
    "merged['description'] = merged['description'].str.replace('\\n',' ')"
   ]
  },
  {
   "cell_type": "markdown",
   "metadata": {},
   "source": [
    "Ordenamos el dataframe de tweets más antiguos a más recientes."
   ]
  },
  {
   "cell_type": "code",
   "execution_count": 107,
   "metadata": {},
   "outputs": [
    {
     "data": {
      "text/html": [
       "<div>\n",
       "<style scoped>\n",
       "    .dataframe tbody tr th:only-of-type {\n",
       "        vertical-align: middle;\n",
       "    }\n",
       "\n",
       "    .dataframe tbody tr th {\n",
       "        vertical-align: top;\n",
       "    }\n",
       "\n",
       "    .dataframe thead th {\n",
       "        text-align: right;\n",
       "    }\n",
       "</style>\n",
       "<table border=\"1\" class=\"dataframe\">\n",
       "  <thead>\n",
       "    <tr style=\"text-align: right;\">\n",
       "      <th></th>\n",
       "      <th>relation</th>\n",
       "      <th>user retweeted</th>\n",
       "      <th>id user</th>\n",
       "      <th>date</th>\n",
       "      <th>app</th>\n",
       "      <th>text</th>\n",
       "      <th>reply settings</th>\n",
       "      <th>id tweet</th>\n",
       "      <th>retweet count</th>\n",
       "      <th>reply count</th>\n",
       "      <th>like count</th>\n",
       "      <th>quote count</th>\n",
       "      <th>lang</th>\n",
       "      <th>location</th>\n",
       "      <th>author</th>\n",
       "      <th>verified</th>\n",
       "      <th>name</th>\n",
       "      <th>profile image url</th>\n",
       "      <th>followers</th>\n",
       "      <th>following</th>\n",
       "      <th>tweets</th>\n",
       "      <th>listed</th>\n",
       "      <th>description</th>\n",
       "      <th>created_at</th>\n",
       "      <th>urls</th>\n",
       "      <th>retrieved at</th>\n",
       "    </tr>\n",
       "  </thead>\n",
       "  <tbody>\n",
       "    <tr>\n",
       "      <th>215</th>\n",
       "      <td>tweet</td>\n",
       "      <td>None</td>\n",
       "      <td>296592711</td>\n",
       "      <td>2022-10-19 15:06:43</td>\n",
       "      <td>Twitter Web App</td>\n",
       "      <td>12 #FelizMiercoles https://t.co/2k3ETNfzng</td>\n",
       "      <td>everyone</td>\n",
       "      <td>1582750095019499520</td>\n",
       "      <td>0</td>\n",
       "      <td>0</td>\n",
       "      <td>0</td>\n",
       "      <td>0</td>\n",
       "      <td>und</td>\n",
       "      <td>CDMX</td>\n",
       "      <td>jramiroMX</td>\n",
       "      <td>False</td>\n",
       "      <td>CHILANGO</td>\n",
       "      <td>https://pbs.twimg.com/profile_images/1311646474984476672/LjlH6TKT_normal.jpg</td>\n",
       "      <td>188356</td>\n",
       "      <td>209256</td>\n",
       "      <td>525227</td>\n",
       "      <td>345</td>\n",
       "      <td>Que nadie manipule tu criterio, ¿como puedes evitarlo?, solo adquiriendo el buen hábito de estar bien informado, no existe otra forma</td>\n",
       "      <td>2011-05-11 02:05:17</td>\n",
       "      <td>None</td>\n",
       "      <td>2022-10-19 15:15:40</td>\n",
       "    </tr>\n",
       "    <tr>\n",
       "      <th>214</th>\n",
       "      <td>retweeted</td>\n",
       "      <td>INAMEH</td>\n",
       "      <td>1582023931250282497</td>\n",
       "      <td>2022-10-19 15:06:50</td>\n",
       "      <td>Twitter for Android</td>\n",
       "      <td>RT @INAMEH: así mismo, nubosidad fragmentada en áreas del Táchira, Barinas, Lara, Yaracuy, este de Miranda, Anzoátegui y Monagas; el resto…</td>\n",
       "      <td>everyone</td>\n",
       "      <td>1582750125528875009</td>\n",
       "      <td>127</td>\n",
       "      <td>0</td>\n",
       "      <td>0</td>\n",
       "      <td>0</td>\n",
       "      <td>es</td>\n",
       "      <td>None</td>\n",
       "      <td>carmen21463660</td>\n",
       "      <td>False</td>\n",
       "      <td>carmen</td>\n",
       "      <td>https://pbs.twimg.com/profile_images/1582024161647550466/FOKc72l5_normal.jpg</td>\n",
       "      <td>0</td>\n",
       "      <td>40</td>\n",
       "      <td>533</td>\n",
       "      <td>0</td>\n",
       "      <td></td>\n",
       "      <td>2022-10-17 15:01:30</td>\n",
       "      <td>None</td>\n",
       "      <td>2022-10-19 15:15:40</td>\n",
       "    </tr>\n",
       "  </tbody>\n",
       "</table>\n",
       "</div>"
      ],
      "text/plain": [
       "      relation user retweeted              id user                date  \\\n",
       "215      tweet           None            296592711 2022-10-19 15:06:43   \n",
       "214  retweeted         INAMEH  1582023931250282497 2022-10-19 15:06:50   \n",
       "\n",
       "                     app  \\\n",
       "215      Twitter Web App   \n",
       "214  Twitter for Android   \n",
       "\n",
       "                                                                                                                                            text  \\\n",
       "215                                                                                                   12 #FelizMiercoles https://t.co/2k3ETNfzng   \n",
       "214  RT @INAMEH: así mismo, nubosidad fragmentada en áreas del Táchira, Barinas, Lara, Yaracuy, este de Miranda, Anzoátegui y Monagas; el resto…   \n",
       "\n",
       "    reply settings             id tweet  retweet count  reply count  \\\n",
       "215       everyone  1582750095019499520              0            0   \n",
       "214       everyone  1582750125528875009            127            0   \n",
       "\n",
       "     like count  quote count lang location          author  verified  \\\n",
       "215           0            0  und     CDMX       jramiroMX     False   \n",
       "214           0            0   es     None  carmen21463660     False   \n",
       "\n",
       "         name  \\\n",
       "215  CHILANGO   \n",
       "214    carmen   \n",
       "\n",
       "                                                                profile image url  \\\n",
       "215  https://pbs.twimg.com/profile_images/1311646474984476672/LjlH6TKT_normal.jpg   \n",
       "214  https://pbs.twimg.com/profile_images/1582024161647550466/FOKc72l5_normal.jpg   \n",
       "\n",
       "     followers  following  tweets  listed  \\\n",
       "215     188356     209256  525227     345   \n",
       "214          0         40     533       0   \n",
       "\n",
       "                                                                                                                               description  \\\n",
       "215  Que nadie manipule tu criterio, ¿como puedes evitarlo?, solo adquiriendo el buen hábito de estar bien informado, no existe otra forma   \n",
       "214                                                                                                                                          \n",
       "\n",
       "             created_at  urls        retrieved at  \n",
       "215 2011-05-11 02:05:17  None 2022-10-19 15:15:40  \n",
       "214 2022-10-17 15:01:30  None 2022-10-19 15:15:40  "
      ]
     },
     "execution_count": 107,
     "metadata": {},
     "output_type": "execute_result"
    }
   ],
   "source": [
    "merged = merged.sort_values(by='date',ascending=True)\n",
    "merged.head(2)"
   ]
  },
  {
   "cell_type": "markdown",
   "metadata": {},
   "source": [
    "Ordenamos las columnas a nuestro gusto."
   ]
  },
  {
   "cell_type": "code",
   "execution_count": 108,
   "metadata": {},
   "outputs": [
    {
     "data": {
      "text/html": [
       "<div>\n",
       "<style scoped>\n",
       "    .dataframe tbody tr th:only-of-type {\n",
       "        vertical-align: middle;\n",
       "    }\n",
       "\n",
       "    .dataframe tbody tr th {\n",
       "        vertical-align: top;\n",
       "    }\n",
       "\n",
       "    .dataframe thead th {\n",
       "        text-align: right;\n",
       "    }\n",
       "</style>\n",
       "<table border=\"1\" class=\"dataframe\">\n",
       "  <thead>\n",
       "    <tr style=\"text-align: right;\">\n",
       "      <th></th>\n",
       "      <th>id tweet</th>\n",
       "      <th>date</th>\n",
       "      <th>author</th>\n",
       "      <th>text</th>\n",
       "      <th>app</th>\n",
       "      <th>id user</th>\n",
       "      <th>followers</th>\n",
       "      <th>following</th>\n",
       "      <th>tweets</th>\n",
       "      <th>location</th>\n",
       "      <th>urls</th>\n",
       "      <th>name</th>\n",
       "      <th>description</th>\n",
       "      <th>relation</th>\n",
       "      <th>user retweeted</th>\n",
       "      <th>lang</th>\n",
       "      <th>created_at</th>\n",
       "    </tr>\n",
       "  </thead>\n",
       "  <tbody>\n",
       "    <tr>\n",
       "      <th>215</th>\n",
       "      <td>1582750095019499520</td>\n",
       "      <td>2022-10-19 15:06:43</td>\n",
       "      <td>jramiroMX</td>\n",
       "      <td>12 #FelizMiercoles https://t.co/2k3ETNfzng</td>\n",
       "      <td>Twitter Web App</td>\n",
       "      <td>296592711</td>\n",
       "      <td>188356</td>\n",
       "      <td>209256</td>\n",
       "      <td>525227</td>\n",
       "      <td>CDMX</td>\n",
       "      <td>None</td>\n",
       "      <td>CHILANGO</td>\n",
       "      <td>Que nadie manipule tu criterio, ¿como puedes evitarlo?, solo adquiriendo el buen hábito de estar bien informado, no existe otra forma</td>\n",
       "      <td>tweet</td>\n",
       "      <td>None</td>\n",
       "      <td>und</td>\n",
       "      <td>2011-05-11 02:05:17</td>\n",
       "    </tr>\n",
       "  </tbody>\n",
       "</table>\n",
       "</div>"
      ],
      "text/plain": [
       "                id tweet                date     author  \\\n",
       "215  1582750095019499520 2022-10-19 15:06:43  jramiroMX   \n",
       "\n",
       "                                           text              app    id user  \\\n",
       "215  12 #FelizMiercoles https://t.co/2k3ETNfzng  Twitter Web App  296592711   \n",
       "\n",
       "     followers  following  tweets location  urls      name  \\\n",
       "215     188356     209256  525227     CDMX  None  CHILANGO   \n",
       "\n",
       "                                                                                                                               description  \\\n",
       "215  Que nadie manipule tu criterio, ¿como puedes evitarlo?, solo adquiriendo el buen hábito de estar bien informado, no existe otra forma   \n",
       "\n",
       "    relation user retweeted lang          created_at  \n",
       "215    tweet           None  und 2011-05-11 02:05:17  "
      ]
     },
     "execution_count": 108,
     "metadata": {},
     "output_type": "execute_result"
    }
   ],
   "source": [
    "merged = merged[['id tweet','date','author','text','app','id user','followers','following','tweets','location',\n",
    "'urls','name','description','relation','user retweeted','lang','created_at']]\n",
    "merged.head(1)"
   ]
  },
  {
   "cell_type": "markdown",
   "metadata": {},
   "source": [
    "Limpiamos los duplicados que se hayan podido generar."
   ]
  },
  {
   "cell_type": "code",
   "execution_count": 109,
   "metadata": {},
   "outputs": [],
   "source": [
    "merged = merged.drop_duplicates(subset='id tweet',keep='first')"
   ]
  },
  {
   "cell_type": "markdown",
   "metadata": {},
   "source": [
    "Lo guardamos como .txt con separación de tabulador, que es el que usa t-hoarder."
   ]
  },
  {
   "cell_type": "code",
   "execution_count": 110,
   "metadata": {},
   "outputs": [],
   "source": [
    "merged.to_csv('felizmiercoles.txt',index=False,sep='\\t')"
   ]
  }
 ],
 "metadata": {
  "kernelspec": {
   "display_name": "Python 3.10.6 64-bit",
   "language": "python",
   "name": "python3"
  },
  "language_info": {
   "codemirror_mode": {
    "name": "ipython",
    "version": 3
   },
   "file_extension": ".py",
   "mimetype": "text/x-python",
   "name": "python",
   "nbconvert_exporter": "python",
   "pygments_lexer": "ipython3",
   "version": "3.10.6"
  },
  "orig_nbformat": 4,
  "vscode": {
   "interpreter": {
    "hash": "bd93485d45f8012b588575cebabcd376235df155f536506829f6de8ee041e5ee"
   }
  }
 },
 "nbformat": 4,
 "nbformat_minor": 2
}
